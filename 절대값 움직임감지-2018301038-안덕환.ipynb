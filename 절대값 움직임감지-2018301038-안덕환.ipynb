{
 "cells": [
  {
   "cell_type": "code",
   "execution_count": 18,
   "id": "131238fe",
   "metadata": {},
   "outputs": [],
   "source": [
    "import cv2\n",
    "\n",
    "\n",
    "capture = cv2.VideoCapture(0)  # 0번 카메라 연결\n",
    "if capture.isOpened() == False:\n",
    "    raise Exception(\"카메라 연결 안됨\")\n",
    "\n",
    "\n",
    "while True:  # 무한 반복\n",
    "    ret, frame1 = capture.read()\n",
    "    ret, frame2 = capture.read()\n",
    "    if not ret: break\n",
    "        \n",
    "    move = cv2.absdiff(frame1, frame2) #두 프레임 간 차의 절댓값을 구한다.\n",
    "    \n",
    "\n",
    "    title = \"moving sensor\"\n",
    "    cv2.imshow(title, move)  # 윈도우에 영상 띄우기, 화면에 움직임만 나타나게 한다.\n",
    "    \n",
    "    if cv2.waitKey(1) == ord('e'): # e를 눌러 반복을 멈춘다,\n",
    "        break\n",
    "        \n",
    "cv2.destroyAllWindows() #창을 닫는다."
   ]
  }
 ],
 "metadata": {
  "kernelspec": {
   "display_name": "Python 3 (ipykernel)",
   "language": "python",
   "name": "python3"
  },
  "language_info": {
   "codemirror_mode": {
    "name": "ipython",
    "version": 3
   },
   "file_extension": ".py",
   "mimetype": "text/x-python",
   "name": "python",
   "nbconvert_exporter": "python",
   "pygments_lexer": "ipython3",
   "version": "3.10.0"
  }
 },
 "nbformat": 4,
 "nbformat_minor": 5
}
