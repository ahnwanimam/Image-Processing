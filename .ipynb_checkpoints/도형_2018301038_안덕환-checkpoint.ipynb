{
 "cells": [
  {
   "cell_type": "code",
   "execution_count": 7,
   "id": "bb982ce6",
   "metadata": {},
   "outputs": [
    {
     "data": {
      "text/plain": [
       "-1"
      ]
     },
     "execution_count": 7,
     "metadata": {},
     "output_type": "execute_result"
    }
   ],
   "source": [
    "import numpy as np\n",
    "import cv2\n",
    "\n",
    "def onMouse(event, x, y, flags, param):\n",
    "    global title, pt\n",
    "\n",
    "    if event == cv2.EVENT_LBUTTONDOWN:     # 처음 마우스 왼쪽 버튼을 누르면\n",
    "        pt = (x, y)                        # 시작 좌표를 정하고 \n",
    "        \n",
    "    elif event == cv2.EVENT_LBUTTONUP:    # 마우스 왼쪽 버튼을 떼면\n",
    "        cv2.rectangle(image, pt, (x, y), (255,0,0), 2)   # 처음 좌표와 마우스를 뗸 좌표로 사각형을 그린다.\n",
    "        cv2.imshow(title, image)\n",
    "        pt = (-1, -1)                       # 시작 좌표 초기화\n",
    "            \n",
    "    if event == cv2.EVENT_RBUTTONDOWN:    # 처음 마우스 오른쪽 버튼을 누르면\n",
    "        pt = (x, y)                       # 시작 좌표를 정하고 \n",
    "        \n",
    "    elif event == cv2.EVENT_RBUTTONUP:   # 마우스 오른쪽 버튼을 떼면\n",
    "        dx, dy = pt[0] - x, pt[1] - y    # 두 좌표 간의 거리\n",
    "        radius = int(np.sqrt(dx * dx + dy * dy))   #처음 좌표와 마우스를 뗀 좌표 두 좌표로 반지름을 구해\n",
    "        cv2.circle(image, pt, radius, (0,0,255), 2)  #원을 그린다.\n",
    "        cv2.imshow(title, image)\n",
    "        pt = (-1, -1)                       # 시작 좌표 초기화\n",
    "\n",
    "image = np.full((300, 500, 3), (255, 255, 255), np.uint8)\n",
    "\n",
    "pt = (-1, -1)                                   # 시작 좌표 초기화\n",
    "title = \"Draw Event\"\n",
    "cv2.imshow(title, image)\n",
    "cv2.setMouseCallback(title, onMouse)\n",
    "cv2.waitKey(0)\n"
   ]
  },
  {
   "cell_type": "markdown",
   "id": "ce52c9b8",
   "metadata": {},
   "source": [
    "이 코드는 마우스 클릭으로 도형을 그리는 교재의 event_draw코드를 살짝만 변형하여\n",
    "마우스를 드래그해서 도형을 그리도록 만든 코드이다.\n",
    "먼저 왼쪽 마우스버튼은 사각형을 그리는데, cv2.EVENT_LBUTTONDOWN을 사용하여 처음 마우스 왼쪽\n",
    "버튼을 누르면 누른 위치의 좌표를 pt에 저장하고 cv2.EVENT_LBUTTONUP을 사용하여 마우스 왼쪽 버튼을\n",
    "떼게 되면 pt좌표(처음 왼쪽 마우스를 누른 좌표)와 마우스를 뗀 좌표로 cv2.rectangle을 사용해 사각형을 그려 화면에 보이고,\n",
    "시작 좌표를 초기화 시켜줬다.\n",
    "\n",
    "다음으로 원을 그리는 것도 마찬가지인데, cv2.EVENT_RBUTTONDOWN을 사용하여 처음 마우스 오른쪽 버튼을 눌러\n",
    "시작 좌표를 pt에 저장하고, cv2.EVENT_RBUTTONUP을 사용하여 처음 pt에 저장한 x좌표 값과 마우스 오른쪽 버튼을 뗀 \n",
    "x좌표 값, pt에 저장한 y좌표 값과 마우스 오른쪽 버튼을 뗸 y좌표 값의 차를 구해 좌표 사이의 거리를 구하고,\n",
    "그것으로 반지름을 구한 뒤 cv2.circle을 사용해 원을 그려 화면에 보이도록 했다."
   ]
  }
 ],
 "metadata": {
  "kernelspec": {
   "display_name": "Python 3 (ipykernel)",
   "language": "python",
   "name": "python3"
  },
  "language_info": {
   "codemirror_mode": {
    "name": "ipython",
    "version": 3
   },
   "file_extension": ".py",
   "mimetype": "text/x-python",
   "name": "python",
   "nbconvert_exporter": "python",
   "pygments_lexer": "ipython3",
   "version": "3.10.0"
  }
 },
 "nbformat": 4,
 "nbformat_minor": 5
}
